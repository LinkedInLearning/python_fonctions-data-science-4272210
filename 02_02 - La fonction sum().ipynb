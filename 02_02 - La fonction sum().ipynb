{
 "cells": [
  {
   "cell_type": "markdown",
   "metadata": {},
   "source": [
    "<h3 style=\"text-align: left; background-color: #e0e0e0; font-family:Times New Roman; color: black; padding: 14px; line-height: 1; border-radius:10px\">La fonction sum()</h3>"
   ]
  },
  {
   "cell_type": "markdown",
   "metadata": {},
   "source": [
    "La fonction sum() en Python est utilisée pour calculer la somme des éléments d'une séquence (une liste, un tuple, etc.). Cette fonction est très utile pour additionner tous les éléments d'une collection de nombres."
   ]
  },
  {
   "cell_type": "code",
   "execution_count": 12,
   "metadata": {},
   "outputs": [
    {
     "name": "stdout",
     "output_type": "stream",
     "text": [
      "la somme des nombres de cette liste est: 15\n"
     ]
    }
   ],
   "source": [
    "# Liste de nombres\n",
    "nombres = [1, 2, 3, 4, 5]\n",
    "\n",
    "# Calcul de la somme des éléments de la liste\n",
    "somme = sum(nombres)\n",
    "print(\"la somme des nombres de cette liste est:\",somme)  "
   ]
  }
 ],
 "metadata": {
  "kernelspec": {
   "display_name": "Python 3",
   "language": "python",
   "name": "python3"
  },
  "language_info": {
   "codemirror_mode": {
    "name": "ipython",
    "version": 3
   },
   "file_extension": ".py",
   "mimetype": "text/x-python",
   "name": "python",
   "nbconvert_exporter": "python",
   "pygments_lexer": "ipython3",
   "version": "3.6.4"
  }
 },
 "nbformat": 4,
 "nbformat_minor": 2
}
