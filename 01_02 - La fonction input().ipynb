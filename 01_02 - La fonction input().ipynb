{
 "cells": [
  {
   "cell_type": "markdown",
   "metadata": {},
   "source": [
    "<h3 style=\"text-align: left; background-color: #e0e0e0; font-family:Times New Roman; color: black; padding: 14px; line-height: 1; border-radius:10px\">La fonction input()</h3>"
   ]
  },
  {
   "cell_type": "markdown",
   "metadata": {},
   "source": [
    "La fonction input() en Python est utilisée pour recevoir des informations de l'utilisateur à travers le terminal. Elle permet d'interagir avec l'utilisateur en lui demandant de saisir une valeur, qui est ensuite renvoyée sous forme de chaîne de caractères (de string)."
   ]
  },
  {
   "cell_type": "code",
   "execution_count": 4,
   "metadata": {},
   "outputs": [
    {
     "name": "stdout",
     "output_type": "stream",
     "text": [
      "Quel est votre nom ? Alison\n",
      "Quel âge avez-vous ? 33\n"
     ]
    }
   ],
   "source": [
    "nom = input(\"Quel est votre nom ? \")  \n",
    "age = input(\"Quel âge avez-vous ? \")  "
   ]
  },
  {
   "cell_type": "code",
   "execution_count": 5,
   "metadata": {},
   "outputs": [
    {
     "name": "stdout",
     "output_type": "stream",
     "text": [
      "Bonjour, Alison ! Vous avez 33 ans.\n"
     ]
    }
   ],
   "source": [
    "print(\"Bonjour,\", nom, \"! Vous avez\", age, \"ans.\")  "
   ]
  }
 ],
 "metadata": {
  "kernelspec": {
   "display_name": "Python 3",
   "language": "python",
   "name": "python3"
  },
  "language_info": {
   "codemirror_mode": {
    "name": "ipython",
    "version": 3
   },
   "file_extension": ".py",
   "mimetype": "text/x-python",
   "name": "python",
   "nbconvert_exporter": "python",
   "pygments_lexer": "ipython3",
   "version": "3.6.4"
  }
 },
 "nbformat": 4,
 "nbformat_minor": 2
}
