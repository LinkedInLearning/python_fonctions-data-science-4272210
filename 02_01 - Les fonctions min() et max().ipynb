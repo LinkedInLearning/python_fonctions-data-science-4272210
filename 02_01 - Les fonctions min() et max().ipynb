{
 "cells": [
  {
   "cell_type": "markdown",
   "metadata": {},
   "source": [
    "<h3 style=\"text-align: left; background-color: #e0e0e0; font-family:Times New Roman; color: black; padding: 14px; line-height: 1; border-radius:10px\">Les fonctions min() et max()</h3>"
   ]
  },
  {
   "cell_type": "markdown",
   "metadata": {},
   "source": [
    "Les fonctions min() et max() en Python sont utilisées pour trouver respectivement la valeur minimale et maximale dans une séquence (une liste, un tuple, un ensemble, etc.). "
   ]
  },
  {
   "cell_type": "code",
   "execution_count": 12,
   "metadata": {},
   "outputs": [
    {
     "name": "stdout",
     "output_type": "stream",
     "text": [
      "la valeur minimale est : 1\n",
      "la valeur maximale est : 78\n"
     ]
    }
   ],
   "source": [
    "# Liste de nombres\n",
    "nombres = [10, 4, 56, 23, 78, 1, 9]\n",
    "\n",
    "# Trouver la valeur minimale\n",
    "valeur_min = min(nombres)\n",
    "print(\"la valeur minimale est :\", valeur_min)  \n",
    "\n",
    "# Trouver la valeur maximale\n",
    "valeur_max = max(nombres)\n",
    "print(\"la valeur maximale est :\", valeur_max)  "
   ]
  },
  {
   "cell_type": "code",
   "execution_count": 13,
   "metadata": {},
   "outputs": [
    {
     "name": "stdout",
     "output_type": "stream",
     "text": [
      "le mot le plus court est: rat\n",
      "le mot le plus long est: éléphant\n"
     ]
    }
   ],
   "source": [
    "# Liste de mots\n",
    "mots = [\"chat\", \"éléphant\", \"chien\", \"rat\"]\n",
    "\n",
    "# Trouver le mot le plus court\n",
    "mot_plus_court = min(mots, key=len)\n",
    "print(\"le mot le plus court est:\", mot_plus_court)  \n",
    "\n",
    "# Trouver le mot le plus long\n",
    "mot_plus_long = max(mots, key=len)\n",
    "print(\"le mot le plus long est:\", mot_plus_long)  "
   ]
  }
 ],
 "metadata": {
  "kernelspec": {
   "display_name": "Python 3",
   "language": "python",
   "name": "python3"
  },
  "language_info": {
   "codemirror_mode": {
    "name": "ipython",
    "version": 3
   },
   "file_extension": ".py",
   "mimetype": "text/x-python",
   "name": "python",
   "nbconvert_exporter": "python",
   "pygments_lexer": "ipython3",
   "version": "3.6.4"
  }
 },
 "nbformat": 4,
 "nbformat_minor": 2
}
