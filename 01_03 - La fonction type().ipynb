{
 "cells": [
  {
   "cell_type": "markdown",
   "metadata": {},
   "source": [
    "<h3 style=\"text-align: left; background-color: #e0e0e0; font-family:Times New Roman; color: black; padding: 14px; line-height: 1; border-radius:10px\">La fonction type()</h3>"
   ]
  },
  {
   "cell_type": "markdown",
   "metadata": {},
   "source": [
    "La fonction type() en Python est utilisée pour déterminer le type de données d'une valeur ou d'une variable. En effet, il existe différents types de valeurs :\n",
    " - chaîne de caractères (str)\n",
    " - entier (int)\n",
    " - flottant (float)\n",
    " - une liste (list)\n",
    " - et bien d'autres !"
   ]
  },
  {
   "cell_type": "code",
   "execution_count": 6,
   "metadata": {},
   "outputs": [],
   "source": [
    "nom = \"Alison\"\n",
    "age = 33\n",
    "taille = 1.58\n",
    "est_adulte = True"
   ]
  },
  {
   "cell_type": "code",
   "execution_count": 7,
   "metadata": {},
   "outputs": [
    {
     "name": "stdout",
     "output_type": "stream",
     "text": [
      "<class 'str'>\n",
      "<class 'int'>\n",
      "<class 'float'>\n",
      "<class 'bool'>\n"
     ]
    }
   ],
   "source": [
    "# Affichage des types de valeur\n",
    "print(type(nom))     \n",
    "print(type(age))     \n",
    "print(type(taille))  \n",
    "print(type(est_adulte)) "
   ]
  },
  {
   "cell_type": "code",
   "execution_count": 8,
   "metadata": {},
   "outputs": [
    {
     "name": "stdout",
     "output_type": "stream",
     "text": [
      "Quel âge avez-vous ? 33\n",
      "<class 'str'>\n"
     ]
    }
   ],
   "source": [
    "age = input(\"Quel âge avez-vous ? \")\n",
    "print(type(age)) "
   ]
  },
  {
   "cell_type": "markdown",
   "metadata": {},
   "source": [
    "Les fonctions de conversion de type :\n",
    " - int() : conversion en entier\n",
    " - float() : conversion en flottant\n",
    " - str() : conversion en string\n",
    " - bool() : conversion en booléen"
   ]
  },
  {
   "cell_type": "code",
   "execution_count": 9,
   "metadata": {},
   "outputs": [
    {
     "name": "stdout",
     "output_type": "stream",
     "text": [
      "<class 'int'>\n"
     ]
    }
   ],
   "source": [
    "# Convertir l'âge en entier\n",
    "age = int(age)\n",
    "print(type(age))"
   ]
  }
 ],
 "metadata": {
  "kernelspec": {
   "display_name": "Python 3",
   "language": "python",
   "name": "python3"
  },
  "language_info": {
   "codemirror_mode": {
    "name": "ipython",
    "version": 3
   },
   "file_extension": ".py",
   "mimetype": "text/x-python",
   "name": "python",
   "nbconvert_exporter": "python",
   "pygments_lexer": "ipython3",
   "version": "3.6.4"
  }
 },
 "nbformat": 4,
 "nbformat_minor": 2
}
