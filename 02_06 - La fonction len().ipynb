{
 "cells": [
  {
   "cell_type": "markdown",
   "metadata": {},
   "source": [
    "<h3 style=\"text-align: left; background-color: #e0e0e0; font-family:Times New Roman; color: black; padding: 14px; line-height: 1; border-radius:10px\">La fonction len()</h3>"
   ]
  },
  {
   "cell_type": "markdown",
   "metadata": {},
   "source": [
    "La fonction len() en Python est utilisée pour obtenir la longueur (le nombre d'éléments) d'un objet. Elle s'applique sur tous les types de données en Python : les tuples, les chaînes de caractères ou les valeurs numériques."
   ]
  },
  {
   "cell_type": "code",
   "execution_count": 3,
   "metadata": {},
   "outputs": [
    {
     "name": "stdout",
     "output_type": "stream",
     "text": [
      "6\n"
     ]
    }
   ],
   "source": [
    "# Calculer la longueur d'une chaîne\n",
    "chaine = \"Alison\"\n",
    "resultat = len(chaine)\n",
    "print(resultat)  "
   ]
  },
  {
   "cell_type": "code",
   "execution_count": 4,
   "metadata": {},
   "outputs": [
    {
     "name": "stdout",
     "output_type": "stream",
     "text": [
      "5\n"
     ]
    }
   ],
   "source": [
    "# Calculer le nombre d'éléments dans une liste\n",
    "liste = [10, 20, 30, 40, 50]\n",
    "resultat = len(liste)\n",
    "print(resultat)  "
   ]
  },
  {
   "cell_type": "code",
   "execution_count": 5,
   "metadata": {},
   "outputs": [
    {
     "name": "stdout",
     "output_type": "stream",
     "text": [
      "3\n"
     ]
    }
   ],
   "source": [
    "# Calculer le nombre d'éléments dans une liste imbriquée\n",
    "liste_liste = [[1, 2], [3, 4], [5, 6]]\n",
    "resultat = len(liste_liste)\n",
    "print(resultat)  "
   ]
  },
  {
   "cell_type": "code",
   "execution_count": 6,
   "metadata": {},
   "outputs": [
    {
     "name": "stdout",
     "output_type": "stream",
     "text": [
      "4\n"
     ]
    }
   ],
   "source": [
    "# Calculer la longueur d'un tuple\n",
    "tuple = (1, 2, 3, 4)\n",
    "resultat = len(tuple)\n",
    "print(resultat)  "
   ]
  },
  {
   "cell_type": "code",
   "execution_count": 7,
   "metadata": {},
   "outputs": [
    {
     "name": "stdout",
     "output_type": "stream",
     "text": [
      "5\n"
     ]
    }
   ],
   "source": [
    "# Calculer le nombre d'éléments dans un ensemble\n",
    "ensemble = {1, 2, 3, 4, 5}\n",
    "resultat = len(ensemble)\n",
    "print(resultat)"
   ]
  },
  {
   "cell_type": "code",
   "execution_count": 8,
   "metadata": {},
   "outputs": [
    {
     "name": "stdout",
     "output_type": "stream",
     "text": [
      "10\n",
      "20\n",
      "30\n",
      "40\n",
      "50\n"
     ]
    }
   ],
   "source": [
    "# Définir une liste de nombres\n",
    "nombres = [10, 20, 30, 40, 50]\n",
    "\n",
    "# Utiliser len() pour parcourir la liste\n",
    "for i in range(len(nombres)):\n",
    "    print(nombres[i])"
   ]
  }
 ],
 "metadata": {
  "kernelspec": {
   "display_name": "Python 3",
   "language": "python",
   "name": "python3"
  },
  "language_info": {
   "codemirror_mode": {
    "name": "ipython",
    "version": 3
   },
   "file_extension": ".py",
   "mimetype": "text/x-python",
   "name": "python",
   "nbconvert_exporter": "python",
   "pygments_lexer": "ipython3",
   "version": "3.6.4"
  }
 },
 "nbformat": 4,
 "nbformat_minor": 2
}
