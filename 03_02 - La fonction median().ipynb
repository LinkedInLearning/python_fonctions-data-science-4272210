{
 "cells": [
  {
   "cell_type": "markdown",
   "metadata": {},
   "source": [
    "<h3 style=\"text-align: left; background-color: #e0e0e0; font-family:Times New Roman; color: black; padding: 14px; line-height: 1; border-radius:10px\">La fonction median()</h3>"
   ]
  },
  {
   "cell_type": "markdown",
   "metadata": {},
   "source": [
    "La fonction median() de NumPy est utilisée pour calculer la médiane des éléments d'un array. La médiane est une valeur qui sépare les données en deux parties égales : la moitié des valeurs est inférieure à la médiane, et l'autre moitié est supérieure. "
   ]
  },
  {
   "cell_type": "markdown",
   "metadata": {},
   "source": [
    "Deux possibilités :   \n",
    "    - soit le nombre d'éléments est pair, la médiane est donc la moyenne des deux valeurs \"centrales\"  \n",
    "    exemple : [1, 2, 3, 4] a une médiane de 2,5  \n",
    "    - soit le nombre d'éléments est impair, la médiane est la valeur centrale   \n",
    "    exemple : [1, 2, 3, 4, 5] a une médiane de 3"
   ]
  },
  {
   "cell_type": "code",
   "execution_count": 7,
   "metadata": {},
   "outputs": [],
   "source": [
    "import numpy as np"
   ]
  },
  {
   "cell_type": "code",
   "execution_count": 8,
   "metadata": {},
   "outputs": [
    {
     "name": "stdout",
     "output_type": "stream",
     "text": [
      "5.0\n"
     ]
    }
   ],
   "source": [
    "array_1d = np.array([1, 3, 5, 7, 9])\n",
    "\n",
    "mediane = np.median(array_1d)\n",
    "print(mediane) "
   ]
  },
  {
   "cell_type": "code",
   "execution_count": 9,
   "metadata": {},
   "outputs": [
    {
     "name": "stdout",
     "output_type": "stream",
     "text": [
      "6.0\n"
     ]
    }
   ],
   "source": [
    "array_1d = np.array([1, 3, 5, 7, 9, 11])\n",
    "\n",
    "mediane = np.median(array_1d)\n",
    "print(mediane) "
   ]
  },
  {
   "cell_type": "code",
   "execution_count": 10,
   "metadata": {},
   "outputs": [
    {
     "name": "stdout",
     "output_type": "stream",
     "text": [
      "[[10 20 30]\n",
      " [ 5 15 25]\n",
      " [ 8 18 28]]\n",
      "la médiane de tous les éléments est: 18.0\n",
      "la médiane de par colonne est: [ 8. 18. 28.]\n",
      "la médiane par ligne est: [20. 15. 18.]\n"
     ]
    }
   ],
   "source": [
    "array_2d = np.array([[10, 20, 30], [5, 15, 25], [8, 18, 28]])\n",
    "print(array_2d)\n",
    "\n",
    "# Médiane de tous les éléments\n",
    "mediane_totale = np.median(array_2d)\n",
    "print(\"la médiane de tous les éléments est:\", mediane_totale)  \n",
    "\n",
    "# Médiane par colonne (axis=0)\n",
    "mediane_colonnes = np.median(array_2d, axis=0)\n",
    "print(\"la médiane de par colonne est:\", mediane_colonnes)  \n",
    "\n",
    "# Médiane par ligne (axis=1)\n",
    "mediane_lignes = np.median(array_2d, axis=1)\n",
    "print(\"la médiane par ligne est:\",mediane_lignes) "
   ]
  }
 ],
 "metadata": {
  "kernelspec": {
   "display_name": "Python 3",
   "language": "python",
   "name": "python3"
  },
  "language_info": {
   "codemirror_mode": {
    "name": "ipython",
    "version": 3
   },
   "file_extension": ".py",
   "mimetype": "text/x-python",
   "name": "python",
   "nbconvert_exporter": "python",
   "pygments_lexer": "ipython3",
   "version": "3.6.4"
  }
 },
 "nbformat": 4,
 "nbformat_minor": 2
}
