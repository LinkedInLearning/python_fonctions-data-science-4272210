{
 "cells": [
  {
   "cell_type": "markdown",
   "metadata": {},
   "source": [
    "<h3 style=\"text-align: left; background-color: #e0e0e0; font-family:Times New Roman; color: black; padding: 14px; line-height: 1; border-radius:10px\">La fonction quantile()</h3>"
   ]
  },
  {
   "cell_type": "markdown",
   "metadata": {},
   "source": [
    "La fonction quantile() de NumPy est utilisée pour calculer les quantiles d'un array, c'est-à-dire les valeurs qui divisent un ensemble de données en intervalles de même fréquence"
   ]
  },
  {
   "cell_type": "code",
   "execution_count": 8,
   "metadata": {},
   "outputs": [],
   "source": [
    "import numpy as np"
   ]
  },
  {
   "cell_type": "code",
   "execution_count": 9,
   "metadata": {},
   "outputs": [
    {
     "name": "stdout",
     "output_type": "stream",
     "text": [
      "3.0\n"
     ]
    }
   ],
   "source": [
    "array = np.array([1, 2, 3, 4, 5])\n",
    "\n",
    "# 50e percentile (médiane)\n",
    "quantile_50 = np.quantile(array, 0.5)\n",
    "print(quantile_50)  "
   ]
  },
  {
   "cell_type": "code",
   "execution_count": 10,
   "metadata": {},
   "outputs": [
    {
     "name": "stdout",
     "output_type": "stream",
     "text": [
      "[1 2 3 4 5]\n",
      "2.0\n"
     ]
    }
   ],
   "source": [
    "# 25e percentile (1er quartile)\n",
    "quantile_25 = np.quantile(array, 0.25)\n",
    "print(array)\n",
    "print(quantile_25)  "
   ]
  },
  {
   "cell_type": "code",
   "execution_count": 11,
   "metadata": {},
   "outputs": [
    {
     "name": "stdout",
     "output_type": "stream",
     "text": [
      "[1 2 3 4 5]\n",
      "4.0\n"
     ]
    }
   ],
   "source": [
    "# 75e percentile (3er quartile)\n",
    "quantile_75 = np.quantile(array, 0.75)\n",
    "print(array)\n",
    "print(quantile_75)  "
   ]
  },
  {
   "cell_type": "code",
   "execution_count": 12,
   "metadata": {},
   "outputs": [
    {
     "name": "stdout",
     "output_type": "stream",
     "text": [
      "[2. 3. 4.]\n"
     ]
    }
   ],
   "source": [
    "quartiles = np.quantile(array, [0.25, 0.5, 0.75])\n",
    "print(quartiles)  "
   ]
  },
  {
   "cell_type": "code",
   "execution_count": 13,
   "metadata": {},
   "outputs": [
    {
     "name": "stdout",
     "output_type": "stream",
     "text": [
      "20.0\n"
     ]
    }
   ],
   "source": [
    "array_2d = np.array([[10, 20, 30], [15, 25, 35], [5, 15, 25]])\n",
    "\n",
    "# 50e percentile (médiane) de tous les éléments\n",
    "quantile_50_total = np.quantile(array_2d, 0.5)\n",
    "print(quantile_50_total)  "
   ]
  },
  {
   "cell_type": "code",
   "execution_count": 14,
   "metadata": {},
   "outputs": [
    {
     "name": "stdout",
     "output_type": "stream",
     "text": [
      "[[10 20 30]\n",
      " [15 25 35]\n",
      " [ 5 15 25]]\n",
      "[10. 20. 30.]\n"
     ]
    }
   ],
   "source": [
    "# 50e percentile par colonne (axis=0)\n",
    "quantile_colonnes = np.quantile(array_2d, 0.5, axis=0)\n",
    "print(array_2d)\n",
    "print(quantile_colonnes)"
   ]
  }
 ],
 "metadata": {
  "kernelspec": {
   "display_name": "Python 3",
   "language": "python",
   "name": "python3"
  },
  "language_info": {
   "codemirror_mode": {
    "name": "ipython",
    "version": 3
   },
   "file_extension": ".py",
   "mimetype": "text/x-python",
   "name": "python",
   "nbconvert_exporter": "python",
   "pygments_lexer": "ipython3",
   "version": "3.6.4"
  }
 },
 "nbformat": 4,
 "nbformat_minor": 2
}
