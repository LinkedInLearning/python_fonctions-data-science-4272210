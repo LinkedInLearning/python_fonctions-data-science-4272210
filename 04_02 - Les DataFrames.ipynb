{
 "cells": [
  {
   "cell_type": "markdown",
   "metadata": {},
   "source": [
    "<h3 style=\"text-align: left; background-color: #e0e0e0; font-family:Times New Roman; color: black; padding: 14px; line-height: 1; border-radius:10px\">Créer un DataFrame</h3>"
   ]
  },
  {
   "cell_type": "markdown",
   "metadata": {},
   "source": [
    "Un DataFrame est une structure de données bidimensionnelle, semblable à une table (ou une feuille de calcul Excel), où les lignes et les colonnes peuvent contenir des étiquettes."
   ]
  },
  {
   "cell_type": "code",
   "execution_count": 8,
   "metadata": {},
   "outputs": [],
   "source": [
    "import pandas as pd"
   ]
  },
  {
   "cell_type": "code",
   "execution_count": 9,
   "metadata": {},
   "outputs": [
    {
     "name": "stdout",
     "output_type": "stream",
     "text": [
      "       Nom  Age      Ville\n",
      "0   Alison   25      Paris\n",
      "1  Mélanie   30       Lyon\n",
      "2  Charlie   35  Marseille\n"
     ]
    }
   ],
   "source": [
    "# Créer un DataFrame à partir d'un dictionnaire\n",
    "data = {\n",
    "    'Nom': ['Alison', 'Mélanie', 'Charlie'],\n",
    "    'Age': [25, 30, 35],\n",
    "    'Ville': ['Paris', 'Lyon', 'Marseille']\n",
    "}\n",
    "\n",
    "df = pd.DataFrame(data)\n",
    "\n",
    "print(df)"
   ]
  },
  {
   "cell_type": "code",
   "execution_count": 10,
   "metadata": {},
   "outputs": [
    {
     "name": "stdout",
     "output_type": "stream",
     "text": [
      "       Nom  Age      Ville\n",
      "0   Alison   25      Paris\n",
      "1  Mélanie   30       Lyon\n",
      "2  Charlie   35  Marseille\n"
     ]
    }
   ],
   "source": [
    "# Créer un DataFrame à partir d'une liste de listes\n",
    "data = [\n",
    "    ['Alison', 25, 'Paris'],\n",
    "    ['Mélanie', 30, 'Lyon'],\n",
    "    ['Charlie', 35, 'Marseille']\n",
    "]\n",
    "\n",
    "df = pd.DataFrame(data, columns=['Nom', 'Age', 'Ville'])\n",
    "\n",
    "print(df)"
   ]
  },
  {
   "cell_type": "code",
   "execution_count": 11,
   "metadata": {},
   "outputs": [
    {
     "name": "stdout",
     "output_type": "stream",
     "text": [
      "       Nom Age      Ville\n",
      "0   Alison  25      Paris\n",
      "1  Mélanie  30       Lyon\n",
      "2  Charlie  35  Marseille\n"
     ]
    }
   ],
   "source": [
    "import numpy as np\n",
    "\n",
    "# Créer un DataFrame à partir d'un array Numpy\n",
    "data = np.array([\n",
    "    ['Alison', 25, 'Paris'],\n",
    "    ['Mélanie', 30, 'Lyon'],\n",
    "    ['Charlie', 35, 'Marseille']\n",
    "])\n",
    "\n",
    "df = pd.DataFrame(data, columns=['Nom', 'Age', 'Ville'])\n",
    "\n",
    "print(df)"
   ]
  },
  {
   "cell_type": "code",
   "execution_count": 12,
   "metadata": {},
   "outputs": [
    {
     "name": "stdout",
     "output_type": "stream",
     "text": [
      "             Nom  Âge      Ville\n",
      "Client1    Alice   25      Paris\n",
      "Client2      Bob   30       Lyon\n",
      "Client3  Charlie   35  Marseille\n"
     ]
    }
   ],
   "source": [
    "# Créer un DataFrame avec des index personnalisés\n",
    "data = {\n",
    "    'Nom': ['Alice', 'Bob', 'Charlie'],\n",
    "    'Âge': [25, 30, 35],\n",
    "    'Ville': ['Paris', 'Lyon', 'Marseille']\n",
    "}\n",
    "\n",
    "df = pd.DataFrame(data, index=['Client1', 'Client2', 'Client3'])\n",
    "\n",
    "print(df)"
   ]
  }
 ],
 "metadata": {
  "kernelspec": {
   "display_name": "Python 3",
   "language": "python",
   "name": "python3"
  },
  "language_info": {
   "codemirror_mode": {
    "name": "ipython",
    "version": 3
   },
   "file_extension": ".py",
   "mimetype": "text/x-python",
   "name": "python",
   "nbconvert_exporter": "python",
   "pygments_lexer": "ipython3",
   "version": "3.6.4"
  }
 },
 "nbformat": 4,
 "nbformat_minor": 2
}
