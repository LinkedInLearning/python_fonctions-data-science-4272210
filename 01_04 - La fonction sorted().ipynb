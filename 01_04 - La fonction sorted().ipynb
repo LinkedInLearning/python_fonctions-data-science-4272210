{
 "cells": [
  {
   "cell_type": "markdown",
   "metadata": {},
   "source": [
    "<h3 style=\"text-align: left; background-color: #e0e0e0; font-family:Times New Roman; color: black; padding: 14px; line-height: 1; border-radius:10px\">La fonction sorted()</h3>"
   ]
  },
  {
   "cell_type": "markdown",
   "metadata": {},
   "source": [
    "La fonction sorted() en Python est utilisée pour trier des éléments d'une séquence (une liste, un tuple, un ensemble, etc.). Elle renvoie une nouvelle liste contenant les éléments triés, sans modifier l'objet d'origine. Cette fonction est utile pour trier des données selon un ordre spécifique, par exemple de manière croissante ou décroissante."
   ]
  },
  {
   "cell_type": "code",
   "execution_count": 10,
   "metadata": {},
   "outputs": [
    {
     "name": "stdout",
     "output_type": "stream",
     "text": [
      "[5, 2, 9, 1, 5, 6]\n"
     ]
    }
   ],
   "source": [
    "# Définition d'une liste de chiffres\n",
    "nombres = [5, 2, 9, 1, 5, 6]\n",
    "print(nombres)"
   ]
  },
  {
   "cell_type": "code",
   "execution_count": 11,
   "metadata": {},
   "outputs": [
    {
     "name": "stdout",
     "output_type": "stream",
     "text": [
      "[1, 2, 5, 5, 6, 9]\n"
     ]
    }
   ],
   "source": [
    "# Trier dans l'ordre croissant\n",
    "nombres_tries = sorted(nombres)\n",
    "print(nombres_tries) "
   ]
  },
  {
   "cell_type": "code",
   "execution_count": 12,
   "metadata": {},
   "outputs": [
    {
     "name": "stdout",
     "output_type": "stream",
     "text": [
      "[9, 6, 5, 5, 2, 1]\n"
     ]
    }
   ],
   "source": [
    "# Trier dans l'ordre décroissant\n",
    "nombres_tries_desc = sorted(nombres, reverse=True)\n",
    "print(nombres_tries_desc)"
   ]
  },
  {
   "cell_type": "code",
   "execution_count": 13,
   "metadata": {},
   "outputs": [
    {
     "name": "stdout",
     "output_type": "stream",
     "text": [
      "['pomme', 'banane', 'kiwi', 'abricot']\n"
     ]
    }
   ],
   "source": [
    "# Définition d'une liste de mots\n",
    "mots = [\"pomme\", \"banane\", \"kiwi\", \"abricot\"]\n",
    "print(mots)"
   ]
  },
  {
   "cell_type": "code",
   "execution_count": 14,
   "metadata": {},
   "outputs": [
    {
     "name": "stdout",
     "output_type": "stream",
     "text": [
      "['kiwi', 'pomme', 'banane', 'abricot']\n"
     ]
    }
   ],
   "source": [
    "# Trier par longueur des mots\n",
    "mots_tries_par_longueur = sorted(mots, key=len)\n",
    "print(mots_tries_par_longueur)  "
   ]
  },
  {
   "cell_type": "code",
   "execution_count": 15,
   "metadata": {},
   "outputs": [
    {
     "name": "stdout",
     "output_type": "stream",
     "text": [
      "['abricot', 'banane', 'kiwi', 'pomme']\n"
     ]
    }
   ],
   "source": [
    "# Trier par ordre alphabétique des mots\n",
    "mots_tries_par_ordre_alpha = sorted(mots)\n",
    "print(mots_tries_par_ordre_alpha)  "
   ]
  }
 ],
 "metadata": {
  "kernelspec": {
   "display_name": "Python 3",
   "language": "python",
   "name": "python3"
  },
  "language_info": {
   "codemirror_mode": {
    "name": "ipython",
    "version": 3
   },
   "file_extension": ".py",
   "mimetype": "text/x-python",
   "name": "python",
   "nbconvert_exporter": "python",
   "pygments_lexer": "ipython3",
   "version": "3.6.4"
  }
 },
 "nbformat": 4,
 "nbformat_minor": 2
}
