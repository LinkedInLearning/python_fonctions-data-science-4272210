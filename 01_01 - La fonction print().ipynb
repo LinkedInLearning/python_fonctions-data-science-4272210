{
 "cells": [
  {
   "cell_type": "markdown",
   "metadata": {},
   "source": [
    "<h3 style=\"text-align: left; background-color: #e0e0e0; font-family:Times New Roman; color: black; padding: 14px; line-height: 1; border-radius:10px\">La fonction print()</h3>"
   ]
  },
  {
   "cell_type": "markdown",
   "metadata": {},
   "source": [
    "La fonction print() en Python est utilisée pour afficher des informations à l'écran, souvent appelée sortie standard. C'est l'une des fonctions les plus courantes en Python, car elle permet de montrer des messages, des valeurs de variables, des résultats de calculs, etc., pour observer des valeurs ou pour interagir avec l'utilisateur."
   ]
  },
  {
   "cell_type": "code",
   "execution_count": 8,
   "metadata": {},
   "outputs": [],
   "source": [
    "nom = \"Alison\"\n",
    "age = 33"
   ]
  },
  {
   "cell_type": "code",
   "execution_count": 9,
   "metadata": {},
   "outputs": [
    {
     "name": "stdout",
     "output_type": "stream",
     "text": [
      "Bonjour, Alison\n",
      "Vous avez 33 ans.\n"
     ]
    }
   ],
   "source": [
    "print(\"Bonjour,\", nom)  \n",
    "print(\"Vous avez\", age, \"ans.\")  "
   ]
  },
  {
   "cell_type": "code",
   "execution_count": 10,
   "metadata": {},
   "outputs": [
    {
     "name": "stdout",
     "output_type": "stream",
     "text": [
      "Alison-a-33-ans\n"
     ]
    }
   ],
   "source": [
    "# Utilisation du paramètre sep\n",
    "print(\"Alison\", \"a\", age, \"ans\", sep=\"-\")"
   ]
  },
  {
   "cell_type": "code",
   "execution_count": 11,
   "metadata": {},
   "outputs": [
    {
     "name": "stdout",
     "output_type": "stream",
     "text": [
      "Nom :  Alison *** Age :  33\n"
     ]
    }
   ],
   "source": [
    "# Utilisation du paramètre end\n",
    "print(\"Nom : \", nom, end=\" *** \")  \n",
    "print(\"Age : \", age) "
   ]
  }
 ],
 "metadata": {
  "kernelspec": {
   "display_name": "Python 3",
   "language": "python",
   "name": "python3"
  },
  "language_info": {
   "codemirror_mode": {
    "name": "ipython",
    "version": 3
   },
   "file_extension": ".py",
   "mimetype": "text/x-python",
   "name": "python",
   "nbconvert_exporter": "python",
   "pygments_lexer": "ipython3",
   "version": "3.6.4"
  }
 },
 "nbformat": 4,
 "nbformat_minor": 2
}
