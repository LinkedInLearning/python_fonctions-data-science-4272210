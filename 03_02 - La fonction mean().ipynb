{
 "cells": [
  {
   "cell_type": "markdown",
   "metadata": {},
   "source": [
    "<h3 style=\"text-align: left; background-color: #e0e0e0; font-family:Times New Roman; color: black; padding: 14px; line-height: 1; border-radius:10px\">La fonction mean()</h3>"
   ]
  },
  {
   "cell_type": "markdown",
   "metadata": {},
   "source": [
    "La fonction mean() de NumPy est utilisée pour calculer la moyenne arithmétique des éléments d'un array. Par définition, la moyenne est la somme des valeurs divisée par le nombre total de valeurs."
   ]
  },
  {
   "cell_type": "code",
   "execution_count": null,
   "metadata": {},
   "outputs": [],
   "source": [
    "import numpy as np"
   ]
  },
  {
   "cell_type": "code",
   "execution_count": null,
   "metadata": {},
   "outputs": [],
   "source": [
    "array = np.array([1, 2, 3, 4, 5])\n",
    "\n",
    "# Calcul de la moyenne\n",
    "moyenne = np.mean(array)\n",
    "print(moyenne)  "
   ]
  },
  {
   "cell_type": "code",
   "execution_count": null,
   "metadata": {},
   "outputs": [],
   "source": [
    "array_2d = np.array([[1, 2, 3], [4, 5, 6], [7, 8, 9]])\n",
    "print(array_2d)\n",
    "\n",
    "# Calculer la moyenne de tous les éléments\n",
    "moyenne_totale = np.mean(array_2d)\n",
    "print(\"La moyenne de tous les éléments est :\",moyenne_totale)  \n",
    "\n",
    "# Moyenne par colonne (axis=0)\n",
    "moyenne_colonnes = np.mean(array_2d, axis=0)\n",
    "print(\"La moyenne par colonne est :\", moyenne_colonnes)  \n",
    "\n",
    "# Moyenne par ligne (axis=1)\n",
    "moyenne_lignes = np.mean(array_2d, axis=1)\n",
    "print(\"La moyenne par ligne est :\", moyenne_lignes)  "
   ]
  }
 ],
 "metadata": {
  "kernelspec": {
   "display_name": "Python 3",
   "language": "python",
   "name": "python3"
  },
  "language_info": {
   "codemirror_mode": {
    "name": "ipython",
    "version": 3
   },
   "file_extension": ".py",
   "mimetype": "text/x-python",
   "name": "python",
   "nbconvert_exporter": "python",
   "pygments_lexer": "ipython3",
   "version": "3.6.4"
  }
 },
 "nbformat": 4,
 "nbformat_minor": 2
}
