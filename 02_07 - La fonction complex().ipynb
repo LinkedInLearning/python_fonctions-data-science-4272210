{
 "cells": [
  {
   "cell_type": "markdown",
   "metadata": {},
   "source": [
    "<h3 style=\"text-align: left; background-color: #e0e0e0; font-family:Times New Roman; color: black; padding: 14px; line-height: 1; border-radius:10px\">La fonction complex()</h3>"
   ]
  },
  {
   "cell_type": "markdown",
   "metadata": {},
   "source": [
    "La fonction complex() en Python est utilisée pour créer des nombres complexes. Un nombre complexe est composé d'une partie réelle et d'une partie imaginaire qu'on écrit souvent sous la forme **a + bj**, où **a** est la partie réelle et **b** est la partie imaginaire."
   ]
  },
  {
   "cell_type": "code",
   "execution_count": 5,
   "metadata": {},
   "outputs": [
    {
     "name": "stdout",
     "output_type": "stream",
     "text": [
      "(3+0j)\n"
     ]
    }
   ],
   "source": [
    "# Créer un nombre complexe\n",
    "nombre_complexe = complex(3)\n",
    "print(nombre_complexe)  "
   ]
  },
  {
   "cell_type": "code",
   "execution_count": 6,
   "metadata": {},
   "outputs": [
    {
     "name": "stdout",
     "output_type": "stream",
     "text": [
      "(3-1j)\n",
      "(14-5j)\n"
     ]
    }
   ],
   "source": [
    "z1 = complex(2, 3)\n",
    "z2 = complex(1, -4)\n",
    "\n",
    "# Opérations sur les nombres complexes\n",
    "addition = z1 + z2\n",
    "multiplication = z1 * z2\n",
    "\n",
    "print(addition) \n",
    "print(multiplication) "
   ]
  }
 ],
 "metadata": {
  "kernelspec": {
   "display_name": "Python 3",
   "language": "python",
   "name": "python3"
  },
  "language_info": {
   "codemirror_mode": {
    "name": "ipython",
    "version": 3
   },
   "file_extension": ".py",
   "mimetype": "text/x-python",
   "name": "python",
   "nbconvert_exporter": "python",
   "pygments_lexer": "ipython3",
   "version": "3.6.4"
  }
 },
 "nbformat": 4,
 "nbformat_minor": 2
}
