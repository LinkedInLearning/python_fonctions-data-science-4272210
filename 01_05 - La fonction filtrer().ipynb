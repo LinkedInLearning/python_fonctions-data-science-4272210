{
 "cells": [
  {
   "cell_type": "markdown",
   "metadata": {},
   "source": [
    "<h3 style=\"text-align: left; background-color: #e0e0e0; font-family:Times New Roman; color: black; padding: 14px; line-height: 1; border-radius:10px\">La fonction filter()</h3>"
   ]
  },
  {
   "cell_type": "markdown",
   "metadata": {},
   "source": [
    "La fonction filter() en Python est utilisée pour filtrer les éléments d'une séquence (une liste, un tuple, un ensemble, etc.) en fonction d'une condition définie par une fonction. filter() renvoie un objet filtre contenant uniquement les éléments qui satisfont la condition spécifiée."
   ]
  },
  {
   "cell_type": "code",
   "execution_count": 10,
   "metadata": {},
   "outputs": [
    {
     "name": "stdout",
     "output_type": "stream",
     "text": [
      "[1, 2, 3, 4, 5, 6, 7, 8, 9, 10]\n"
     ]
    }
   ],
   "source": [
    "# Liste de nombres\n",
    "nombres = [1, 2, 3, 4, 5, 6, 7, 8, 9, 10]\n",
    "print(nombres)"
   ]
  },
  {
   "cell_type": "code",
   "execution_count": 11,
   "metadata": {},
   "outputs": [
    {
     "name": "stdout",
     "output_type": "stream",
     "text": [
      "<filter object at 0x000001F2053F16D8>\n"
     ]
    }
   ],
   "source": [
    "# Fonction qui retourne True si le nombre est pair\n",
    "def est_pair(nombre):\n",
    "    return nombre % 2 == 0\n",
    "\n",
    "# Utiliser filter() pour obtenir les nombres pairs\n",
    "nombres_pairs = filter(est_pair, nombres)\n",
    "print(nombres_pairs)"
   ]
  },
  {
   "cell_type": "code",
   "execution_count": 12,
   "metadata": {},
   "outputs": [
    {
     "name": "stdout",
     "output_type": "stream",
     "text": [
      "[2, 4, 6, 8, 10]\n"
     ]
    }
   ],
   "source": [
    "# Convertir l'objet filter en liste\n",
    "nombres_pairs_liste = list(nombres_pairs)\n",
    "print(nombres_pairs_liste)  "
   ]
  },
  {
   "cell_type": "code",
   "execution_count": 13,
   "metadata": {},
   "outputs": [
    {
     "name": "stdout",
     "output_type": "stream",
     "text": [
      "['chat', 'chien', 'souris']\n"
     ]
    }
   ],
   "source": [
    "# Liste de mots\n",
    "mots = [\"chat\", \"chien\", \"souris\", \"rat\"]\n",
    "\n",
    "# Filtrer les mots dont la longueur est supérieure à 3\n",
    "mots_longue = filter(lambda mot: len(mot) > 3, mots)\n",
    "\n",
    "# Convertir le résultat en liste\n",
    "mots_longue_liste = list(mots_longue)\n",
    "print(mots_longue_liste)  \n"
   ]
  }
 ],
 "metadata": {
  "kernelspec": {
   "display_name": "Python 3",
   "language": "python",
   "name": "python3"
  },
  "language_info": {
   "codemirror_mode": {
    "name": "ipython",
    "version": 3
   },
   "file_extension": ".py",
   "mimetype": "text/x-python",
   "name": "python",
   "nbconvert_exporter": "python",
   "pygments_lexer": "ipython3",
   "version": "3.6.4"
  }
 },
 "nbformat": 4,
 "nbformat_minor": 2
}
